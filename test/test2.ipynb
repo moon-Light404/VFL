{
 "cells": [
  {
   "cell_type": "code",
   "execution_count": 27,
   "metadata": {},
   "outputs": [],
   "source": [
    "import sys\n",
    "sys.path.append('..')\n",
    "from utils import split_data\n",
    "import torch\n",
    "from model import cifar_mobilenet, vgg16\n",
    "import torch.nn.functional as F\n"
   ]
  },
  {
   "cell_type": "code",
   "execution_count": null,
   "metadata": {},
   "outputs": [],
   "source": [
    "def cosine_similarity(pseudo_model, client, target_data, dataset):\n",
    "    pseudo_model.eval()\n",
    "    client.eval()\n",
    "    with torch.no_grad():\n",
    "        x_a, _ = split_data(target_data, dataset)\n",
    "        pseudo_output = pseudo_model(x_a)\n",
    "        client_output = client(x_a)\n",
    "    # 将特征展平\n",
    "    pseudo_output = pseudo_output.view(pseudo_output.size(0), -1)\n",
    "    client_output = client_output.view(client_output.size(0), -1)\n",
    "    similarity = F.cosine_similarity(pseudo_output, client_output, dim=1)\n",
    "    return similarity.mean().item()"
   ]
  },
  {
   "cell_type": "code",
   "execution_count": 29,
   "metadata": {},
   "outputs": [],
   "source": [
    "target_bottom1,target_top = cifar_mobilenet(level=2)\n",
    "bottom, _ = vgg16(level=2, batch_norm=True)"
   ]
  },
  {
   "cell_type": "code",
   "execution_count": 30,
   "metadata": {},
   "outputs": [],
   "source": [
    "test_data = torch.ones(4, 3, 32, 32)\n",
    "cosine_similarity = cosine_similarity(target_bottom1, bottom, test_data, 'cifar10')"
   ]
  },
  {
   "cell_type": "code",
   "execution_count": 31,
   "metadata": {},
   "outputs": [
    {
     "name": "stdout",
     "output_type": "stream",
     "text": [
      "torch.Size([4, 64, 16, 16])\n"
     ]
    }
   ],
   "source": [
    "output = target_bottom1(test_data)\n",
    "print(output.shape)"
   ]
  },
  {
   "cell_type": "code",
   "execution_count": 32,
   "metadata": {},
   "outputs": [
    {
     "name": "stdout",
     "output_type": "stream",
     "text": [
      "0.3270553946495056\n"
     ]
    }
   ],
   "source": [
    "print(cosine_similarity)"
   ]
  }
 ],
 "metadata": {
  "kernelspec": {
   "display_name": "base",
   "language": "python",
   "name": "python3"
  },
  "language_info": {
   "codemirror_mode": {
    "name": "ipython",
    "version": 3
   },
   "file_extension": ".py",
   "mimetype": "text/x-python",
   "name": "python",
   "nbconvert_exporter": "python",
   "pygments_lexer": "ipython3",
   "version": "3.10.14"
  }
 },
 "nbformat": 4,
 "nbformat_minor": 2
}
