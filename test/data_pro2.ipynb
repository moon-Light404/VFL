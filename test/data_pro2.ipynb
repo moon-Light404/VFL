{
 "cells": [
  {
   "cell_type": "code",
   "execution_count": null,
   "metadata": {},
   "outputs": [],
   "source": [
    "import torch\n",
    "import sys\n",
    "sys.path.append('..')\n",
    "import random\n",
    "import torch\n",
    "import numpy as np\n",
    "from torchvision import datasets, transforms\n",
    "from torch.utils.data import Dataset, DataLoader\n",
    "from datasets import ExperimentDataset, getSplittedDataset\n",
    "from model import bank_net\n",
    "import copy\n",
    "from vfl import Client, Server, VFLNN\n",
    "import torch.optim as optim\n",
    "import torch.nn.functional as F"
   ]
  },
  {
   "cell_type": "code",
   "execution_count": 2,
   "metadata": {},
   "outputs": [],
   "source": [
    "manualseed = 47\n",
    "random.seed(manualseed)\n",
    "torch.manual_seed(manualseed)\n",
    "np.random.seed(manualseed)"
   ]
  },
  {
   "cell_type": "code",
   "execution_count": 3,
   "metadata": {},
   "outputs": [],
   "source": [
    "input_dim = 10\n",
    "output_dim = 2\n",
    "data_path = 'data/bank_cleaned.csv'\n",
    "train_portion = 0.7\n",
    "test_portion = 0.3\n",
    "dataset = 'bank'"
   ]
  },
  {
   "cell_type": "code",
   "execution_count": 4,
   "metadata": {},
   "outputs": [],
   "source": [
    "def split_data(data):\n",
    "    x_a = data[:, 0: 10]\n",
    "    x_b = data[:, 10: 20]   \n",
    "    return x_a, x_b"
   ]
  },
  {
   "cell_type": "code",
   "execution_count": 5,
   "metadata": {},
   "outputs": [
    {
     "name": "stderr",
     "output_type": "stream",
     "text": [
      "CRITICAL:root:Dataset column permutation is: \n",
      " range(0, 20)\n",
      "CRITICAL:root:Creating dataset, len(samples): 30488; positive labels sum: 3859\n"
     ]
    },
    {
     "name": "stdout",
     "output_type": "stream",
     "text": [
      "<datasets.ExperimentDataset object at 0x000002476F6E42E0>\n",
      "30488\n"
     ]
    }
   ],
   "source": [
    "expset = ExperimentDataset(datafilepath=data_path)\n",
    "print(expset)\n",
    "print(len(expset))"
   ]
  },
  {
   "cell_type": "code",
   "execution_count": 6,
   "metadata": {},
   "outputs": [
    {
     "name": "stdout",
     "output_type": "stream",
     "text": [
      "torch.Size([10, 20])\n",
      "torch.Size([10, 10]) torch.Size([10, 10])\n"
     ]
    }
   ],
   "source": [
    "x, _ = expset[0: 10]\n",
    "print(x.shape)\n",
    "x_a, x_b = split_data(x)\n",
    "print(x_a.shape, x_b.shape)"
   ]
  },
  {
   "cell_type": "code",
   "execution_count": 7,
   "metadata": {},
   "outputs": [
    {
     "name": "stdout",
     "output_type": "stream",
     "text": [
      "torch.Size([10, 20])\n"
     ]
    }
   ],
   "source": [
    "xx = torch.cat((x_a, x_b), 1)\n",
    "print(xx.shape)"
   ]
  },
  {
   "cell_type": "code",
   "execution_count": 8,
   "metadata": {},
   "outputs": [
    {
     "name": "stderr",
     "output_type": "stream",
     "text": [
      "CRITICAL:root:\n",
      "[FUNCTION]: Splitting dataset by getSplittedDataset()......\n",
      "CRITICAL:root:len(trainset): 21341\n",
      "CRITICAL:root:len(testset): 9147\n"
     ]
    },
    {
     "name": "stdout",
     "output_type": "stream",
     "text": [
      "len(trainloader): %d 334\n",
      "len(testloader): %d 143\n"
     ]
    }
   ],
   "source": [
    "trainset, testset = getSplittedDataset(train_portion, test_portion, expset)\n",
    "trainloader = DataLoader(trainset, batch_size=64, shuffle=True)\n",
    "testloader = DataLoader(testset, batch_size=64, shuffle=True)\n",
    "print(\"len(trainloader): %d\", len(trainloader))\n",
    "print(\"len(testloader): %d\", len(testloader))\n"
   ]
  },
  {
   "cell_type": "code",
   "execution_count": 9,
   "metadata": {},
   "outputs": [],
   "source": [
    "bottom1, top_model = bank_net(input_dim, output_dim)\n",
    "bottom2 = copy.deepcopy(bottom1)\n",
    "\n",
    "bottom1, bottom2, top_model = bottom1.cuda(), bottom2.cuda(), top_model.cuda()\n",
    "client1 = Client(bottom1)\n",
    "client2 = Client(bottom2)\n",
    "server = Server(top_model, dataset)"
   ]
  },
  {
   "cell_type": "code",
   "execution_count": 12,
   "metadata": {},
   "outputs": [
    {
     "name": "stdout",
     "output_type": "stream",
     "text": [
      "Epoch:  0\n",
      "======loss=======\n",
      "0.21613871915361316\n",
      "---------------------------testtesttest---------------------------\n",
      "Accuracy of the network on the test images: 89.56%\n",
      "Epoch:  1\n",
      "======loss=======\n",
      "0.21235084777447338\n",
      "---------------------------testtesttest---------------------------\n",
      "Accuracy of the network on the test images: 89.50%\n",
      "Epoch:  2\n",
      "======loss=======\n",
      "0.21016390812351757\n",
      "---------------------------testtesttest---------------------------\n",
      "Accuracy of the network on the test images: 90.25%\n",
      "Epoch:  3\n",
      "======loss=======\n",
      "0.2078761103858061\n",
      "---------------------------testtesttest---------------------------\n",
      "Accuracy of the network on the test images: 90.12%\n",
      "Epoch:  4\n",
      "======loss=======\n",
      "0.2082147679164804\n",
      "---------------------------testtesttest---------------------------\n",
      "Accuracy of the network on the test images: 90.10%\n",
      "Epoch:  5\n",
      "======loss=======\n",
      "0.21042747287681313\n",
      "---------------------------testtesttest---------------------------\n",
      "Accuracy of the network on the test images: 90.16%\n",
      "Epoch:  6\n",
      "======loss=======\n",
      "0.20737225825675654\n",
      "---------------------------testtesttest---------------------------\n",
      "Accuracy of the network on the test images: 89.90%\n",
      "Epoch:  7\n",
      "======loss=======\n",
      "0.20802199065637791\n",
      "---------------------------testtesttest---------------------------\n",
      "Accuracy of the network on the test images: 90.15%\n",
      "Epoch:  8\n",
      "======loss=======\n",
      "0.20524951485057874\n",
      "---------------------------testtesttest---------------------------\n",
      "Accuracy of the network on the test images: 90.39%\n",
      "Epoch:  9\n",
      "======loss=======\n",
      "0.20242073596135493\n",
      "---------------------------testtesttest---------------------------\n",
      "Accuracy of the network on the test images: 90.36%\n",
      "Epoch:  10\n",
      "======loss=======\n",
      "0.20386504036719627\n",
      "---------------------------testtesttest---------------------------\n",
      "Accuracy of the network on the test images: 89.97%\n",
      "Epoch:  11\n",
      "======loss=======\n",
      "0.2036319524154495\n",
      "---------------------------testtesttest---------------------------\n",
      "Accuracy of the network on the test images: 90.22%\n",
      "Epoch:  12\n",
      "======loss=======\n",
      "0.20492816306634928\n",
      "---------------------------testtesttest---------------------------\n",
      "Accuracy of the network on the test images: 90.46%\n",
      "Epoch:  13\n",
      "======loss=======\n",
      "0.2018161105203861\n",
      "---------------------------testtesttest---------------------------\n",
      "Accuracy of the network on the test images: 90.26%\n",
      "Epoch:  14\n",
      "======loss=======\n",
      "0.20268938086061467\n",
      "---------------------------testtesttest---------------------------\n",
      "Accuracy of the network on the test images: 90.39%\n",
      "Epoch:  15\n",
      "======loss=======\n",
      "0.20092723660318013\n",
      "---------------------------testtesttest---------------------------\n",
      "Accuracy of the network on the test images: 89.94%\n",
      "Epoch:  16\n",
      "======loss=======\n",
      "0.20050169209691368\n",
      "---------------------------testtesttest---------------------------\n",
      "Accuracy of the network on the test images: 90.27%\n",
      "Epoch:  17\n",
      "======loss=======\n",
      "0.19830709565733742\n",
      "---------------------------testtesttest---------------------------\n",
      "Accuracy of the network on the test images: 90.29%\n",
      "Epoch:  18\n",
      "======loss=======\n",
      "0.1989763793558878\n",
      "---------------------------testtesttest---------------------------\n",
      "Accuracy of the network on the test images: 90.26%\n",
      "Epoch:  19\n",
      "======loss=======\n",
      "0.19861147738565496\n",
      "---------------------------testtesttest---------------------------\n",
      "Accuracy of the network on the test images: 89.94%\n",
      "Epoch:  20\n",
      "======loss=======\n",
      "0.19796348524978438\n",
      "---------------------------testtesttest---------------------------\n",
      "Accuracy of the network on the test images: 90.15%\n",
      "Epoch:  21\n",
      "======loss=======\n",
      "0.19687898676716942\n",
      "---------------------------testtesttest---------------------------\n",
      "Accuracy of the network on the test images: 90.16%\n",
      "Epoch:  22\n",
      "======loss=======\n",
      "0.19764855788848454\n",
      "---------------------------testtesttest---------------------------\n",
      "Accuracy of the network on the test images: 90.15%\n",
      "Epoch:  23\n",
      "======loss=======\n",
      "0.1978725664086141\n",
      "---------------------------testtesttest---------------------------\n",
      "Accuracy of the network on the test images: 90.50%\n",
      "Epoch:  24\n",
      "======loss=======\n",
      "0.19953153258663753\n",
      "---------------------------testtesttest---------------------------\n",
      "Accuracy of the network on the test images: 90.13%\n",
      "Epoch:  25\n",
      "======loss=======\n",
      "0.19794440595967708\n",
      "---------------------------testtesttest---------------------------\n",
      "Accuracy of the network on the test images: 90.29%\n",
      "Epoch:  26\n",
      "======loss=======\n",
      "0.1964388723075348\n",
      "---------------------------testtesttest---------------------------\n",
      "Accuracy of the network on the test images: 90.29%\n",
      "Epoch:  27\n",
      "======loss=======\n",
      "0.19442349991343819\n",
      "---------------------------testtesttest---------------------------\n",
      "Accuracy of the network on the test images: 90.19%\n",
      "Epoch:  28\n",
      "======loss=======\n",
      "0.1947403856703739\n",
      "---------------------------testtesttest---------------------------\n",
      "Accuracy of the network on the test images: 90.16%\n",
      "Epoch:  29\n",
      "======loss=======\n",
      "0.19441792270297226\n",
      "---------------------------testtesttest---------------------------\n",
      "Accuracy of the network on the test images: 90.25%\n"
     ]
    }
   ],
   "source": [
    "client1_optimizer = optim.Adam(bottom1.parameters(), lr=0.01)\n",
    "client2_optimizer = optim.Adam(bottom2.parameters(), lr=0.01)\n",
    "server_optimizer = optim.Adam(server.parameters(), lr=0.01)\n",
    "client_optimizer = [client1_optimizer, client2_optimizer]\n",
    "target_vflnn = VFLNN(client1, client2, server, client_optimizer, server_optimizer)\n",
    "\n",
    "for i in range(30):\n",
    "    print(\"Epoch: \", i) \n",
    "    target_vflnn.train()\n",
    "    train_loss = 0\n",
    "    for batchidx, (data, target) in enumerate(trainloader):\n",
    "        \n",
    "        data, target_label = data.cuda(), target.cuda()\n",
    "        target_vflnn.zero_grads()\n",
    "        x_a, x_b = split_data(data)\n",
    "        # print(x_a.shape, x_b.shape)\n",
    "        target_vflNN_output = target_vflnn(x_a, x_b)\n",
    "        # 计算loss\n",
    "        target_vflNN_loss = F.cross_entropy(target_vflNN_output, target_label.long())\n",
    "        \n",
    "        # 反向传播\n",
    "        target_vflNN_loss.backward()\n",
    "        # 整体vflNN的反向传播\n",
    "        target_vflnn.backward()\n",
    "\n",
    "        train_loss += target_vflNN_loss.item() * data.size(0)\n",
    "        # 更新模型\n",
    "        target_vflnn.step()\n",
    "    train_loss = train_loss / len(trainloader.dataset)\n",
    "    print(\"======loss=======\")\n",
    "    print(train_loss)\n",
    "        \n",
    "    target_vflnn.eval()\n",
    "    \n",
    "    print(\"---------------------------testtesttest---------------------------\")\n",
    "    correct = 0\n",
    "    total = 0\n",
    "    with torch.no_grad():\n",
    "        for test_data, test_target in testloader:\n",
    "            test_data, test_target = test_data.cuda(), test_target.cuda()\n",
    "            x_a, x_b = split_data(test_data)\n",
    "            outputs = target_vflnn(x_a, x_b)\n",
    "            _, predicted = torch.max(outputs.data, 1)\n",
    "            total += test_target.size(0)\n",
    "            correct += (predicted == test_target).sum().item()\n",
    "\n",
    "    accuracy = 100 * correct / total\n",
    "    print(f'Accuracy of the network on the test images: {accuracy:.2f}%')"
   ]
  }
 ],
 "metadata": {
  "kernelspec": {
   "display_name": "pytorch",
   "language": "python",
   "name": "python3"
  },
  "language_info": {
   "codemirror_mode": {
    "name": "ipython",
    "version": 3
   },
   "file_extension": ".py",
   "mimetype": "text/x-python",
   "name": "python",
   "nbconvert_exporter": "python",
   "pygments_lexer": "ipython3",
   "version": "3.9.19"
  }
 },
 "nbformat": 4,
 "nbformat_minor": 2
}
