{
 "cells": [
  {
   "cell_type": "code",
   "execution_count": 1,
   "metadata": {},
   "outputs": [],
   "source": [
    "from model import Resnet\n"
   ]
  },
  {
   "cell_type": "code",
   "execution_count": 2,
   "metadata": {},
   "outputs": [
    {
     "name": "stdout",
     "output_type": "stream",
     "text": [
      "torch.Size([2, 3, 32, 16])\n"
     ]
    }
   ],
   "source": [
    "from utils import split_data\n",
    "import torch\n",
    "test_cifar_data = torch.ones(2, 3, 32, 32)\n",
    "x_a, x_b = split_data(test_cifar_data, 'cifar10')\n",
    "print(x_a.shape)"
   ]
  },
  {
   "cell_type": "code",
   "execution_count": 3,
   "metadata": {},
   "outputs": [
    {
     "name": "stdout",
     "output_type": "stream",
     "text": [
      "torch.Size([2, 64, 16, 16])\n"
     ]
    }
   ],
   "source": [
    "test_data = torch.ones(2, 3, 64, 64)\n",
    "client, server = Resnet(level=2)\n",
    "output = client(test_data)\n",
    "print(output.shape)\n"
   ]
  },
  {
   "cell_type": "code",
   "execution_count": 4,
   "metadata": {},
   "outputs": [
    {
     "name": "stdout",
     "output_type": "stream",
     "text": [
      "torch.Size([2, 64, 16, 16])\n"
     ]
    }
   ],
   "source": [
    "decoder_input = output\n",
    "print(decoder_input.shape)"
   ]
  },
  {
   "cell_type": "code",
   "execution_count": 5,
   "metadata": {},
   "outputs": [],
   "source": [
    "from model import cifar_discriminator_model\n",
    "d = cifar_discriminator_model(64, level=2, agn=False, fc_dim=1024)"
   ]
  },
  {
   "cell_type": "code",
   "execution_count": 6,
   "metadata": {},
   "outputs": [
    {
     "name": "stdout",
     "output_type": "stream",
     "text": [
      "tensor([[-0.0165],\n",
      "        [-0.0165]], grad_fn=<AddmmBackward0>)\n"
     ]
    }
   ],
   "source": [
    "d_output = d(output)\n",
    "print(d_output)"
   ]
  },
  {
   "cell_type": "code",
   "execution_count": 7,
   "metadata": {},
   "outputs": [
    {
     "name": "stdout",
     "output_type": "stream",
     "text": [
      "[DECODER] activation:  None\n",
      "torch.Size([2, 3, 32, 32])\n"
     ]
    }
   ],
   "source": [
    "from model import cifar_decoder\n",
    "d_input_shape = output.shape[1:]\n",
    "decoder = cifar_decoder(d_input_shape, level=2)\n",
    "decoder_output = decoder(decoder_input)\n",
    "print(decoder_output.shape)"
   ]
  }
 ],
 "metadata": {
  "kernelspec": {
   "display_name": "pytorch",
   "language": "python",
   "name": "python3"
  },
  "language_info": {
   "codemirror_mode": {
    "name": "ipython",
    "version": 3
   },
   "file_extension": ".py",
   "mimetype": "text/x-python",
   "name": "python",
   "nbconvert_exporter": "python",
   "pygments_lexer": "ipython3",
   "version": "3.9.19"
  }
 },
 "nbformat": 4,
 "nbformat_minor": 2
}
