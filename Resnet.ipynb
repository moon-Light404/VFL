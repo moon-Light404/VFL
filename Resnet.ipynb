{
 "cells": [
  {
   "cell_type": "code",
   "execution_count": 29,
   "metadata": {},
   "outputs": [],
   "source": [
    "from model import Resnet\n",
    "level_id = 4"
   ]
  },
  {
   "cell_type": "code",
   "execution_count": 30,
   "metadata": {},
   "outputs": [
    {
     "name": "stdout",
     "output_type": "stream",
     "text": [
      "torch.Size([2, 3, 32, 16])\n"
     ]
    }
   ],
   "source": [
    "from utils import split_data\n",
    "import torch\n",
    "test_cifar_data = torch.ones(2, 3, 32, 32)\n",
    "x_a, x_b = split_data(test_cifar_data, 'cifar10')\n",
    "print(x_a.shape)"
   ]
  },
  {
   "cell_type": "code",
   "execution_count": 31,
   "metadata": {},
   "outputs": [
    {
     "name": "stdout",
     "output_type": "stream",
     "text": [
      "torch.Size([2, 256, 4, 4])\n"
     ]
    }
   ],
   "source": [
    "test_data = torch.ones(2, 3, 64, 64)\n",
    "client, server = Resnet(level=level_id)\n",
    "output = client(test_data)\n",
    "print(output.shape)\n"
   ]
  },
  {
   "cell_type": "code",
   "execution_count": 32,
   "metadata": {},
   "outputs": [
    {
     "name": "stdout",
     "output_type": "stream",
     "text": [
      "torch.Size([2, 256, 4, 4])\n"
     ]
    }
   ],
   "source": [
    "decoder_input = output\n",
    "print(decoder_input.shape)"
   ]
  },
  {
   "cell_type": "code",
   "execution_count": 33,
   "metadata": {},
   "outputs": [],
   "source": [
    "from model import cifar_discriminator_model, resnet_discriminator\n",
    "d = resnet_discriminator(decoder_input.shape[1], level=level_id)"
   ]
  },
  {
   "cell_type": "code",
   "execution_count": 34,
   "metadata": {},
   "outputs": [
    {
     "name": "stdout",
     "output_type": "stream",
     "text": [
      "torch.Size([2, 1])\n"
     ]
    }
   ],
   "source": [
    "d_output = d(output)\n",
    "print(d_output.shape)"
   ]
  },
  {
   "cell_type": "code",
   "execution_count": 35,
   "metadata": {},
   "outputs": [
    {
     "name": "stdout",
     "output_type": "stream",
     "text": [
      "[DECODER] activation:  None\n",
      "torch.Size([2, 3, 64, 64])\n"
     ]
    }
   ],
   "source": [
    "from model import resent_decoder\n",
    "d_input_shape = output.shape[1:]\n",
    "decoder = resent_decoder(d_input_shape, level=level_id)\n",
    "decoder_output = decoder(decoder_input)\n",
    "print(decoder_output.shape)"
   ]
  }
 ],
 "metadata": {
  "kernelspec": {
   "display_name": "pytorch",
   "language": "python",
   "name": "python3"
  },
  "language_info": {
   "codemirror_mode": {
    "name": "ipython",
    "version": 3
   },
   "file_extension": ".py",
   "mimetype": "text/x-python",
   "name": "python",
   "nbconvert_exporter": "python",
   "pygments_lexer": "ipython3",
   "version": "3.9.19"
  }
 },
 "nbformat": 4,
 "nbformat_minor": 2
}
